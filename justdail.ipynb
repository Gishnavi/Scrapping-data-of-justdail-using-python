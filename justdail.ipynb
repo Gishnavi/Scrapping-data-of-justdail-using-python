!pip install selenium
!pip install webdriver_manager
!pip install pandas
!pip install pandas 
from selenium import webdriver
from webdriver_manager.chrome import ChromeDriverManager

driver = webdriver.Chrome(ChromeDriverManager().install())
import pandas as pd
import time
import os
# driver.get method() will navigate to a page given by the URL address
driver.get("https://www.justdial.com/Delhi/Ceiling-Tile-Dealers-Armstrong/nct-11271379")
def strings_to_num(argument): 
    
    switcher = { 
        'dc': '+',
        'fe': '(',
        'hg': ')',
        'ba': '-',
        'acb': '0', 
        'yz': '1', 
        'wx': '2',
        'vu': '3',
        'ts': '4',
        'rq': '5',
        'po': '6',
        'nm': '7',
        'lk': '8',
        'ji': '9'
    } 
    
    return switcher.get(argument, "nothing")
storeDetails = driver.find_elements_by_class_name('store-details')


nameList = []
addressList = []
numbersList = []

for i in range(len(storeDetails)):
    
    name = storeDetails[i].find_element_by_class_name('lng_cont_name').text
    address = storeDetails[i].find_element_by_class_name('cont_fl_addr').get_attribute('innerHTML')
    contactList = storeDetails[i].find_elements_by_class_name('mobilesv')
    
    myList = []
    
    for j in range(len(contactList)):
        
        myString = contactList[j].get_attribute('class').split("-")[1]
    
        myList.append(strings_to_num(myString))

    nameList.append(name)
    addressList.append(address)
    numbersList.append("".join(myList))


    
# intialise data of lists.
data = {'Company Name':nameList,
        'Address': addressList,
        'Phone':numbersList}

# Create DataFrame
# df = pd.DataFrame(data)
import pandas as pd
df = pd.DataFrame(data)
df
df.to_csv('demo1.csv', mode='a', header=False)